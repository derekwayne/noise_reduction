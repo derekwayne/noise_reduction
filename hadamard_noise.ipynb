{
 "cells": [
  {
   "cell_type": "markdown",
   "metadata": {},
   "source": [
    "# Denoising Images"
   ]
  },
  {
   "cell_type": "markdown",
   "metadata": {},
   "source": [
    "### Applications of the Walsh-Hadamard Transform"
   ]
  },
  {
   "cell_type": "markdown",
   "metadata": {},
   "source": [
    "Derek Wayne\n",
    "13 April 2019 "
   ]
  },
  {
   "cell_type": "markdown",
   "metadata": {},
   "source": [
    "<center>Abstract</center>"
   ]
  },
  {
   "cell_type": "markdown",
   "metadata": {},
   "source": [
    "The Hadamard transform is an example of a generalized Fourier transform. It has\n",
    "  numerous applications in signal processing, data compression, and image/video coding to\n",
    "  name a few. The Fast Walsh-Hadamard transform (FWHT) is an efficient algorithm for\n",
    "  denoising images by using various methods of pixel thresholding. In this note, we\n",
    "  explore how this might be implented on a noisy image."
   ]
  },
  {
   "cell_type": "markdown",
   "metadata": {},
   "source": [
    "## Hadamard Matrices"
   ]
  },
  {
   "cell_type": "markdown",
   "metadata": {},
   "source": [
    "For *Hadamard* matrices $H_m$ and $H_n$ we have the following useful recursive properties (note that since m and n are powers of 2, the matrices are symmetric),\n",
    "\n",
    "\\begin{equation}\n",
    "  H_mH_m^T = 2^kI  \n",
    "\\end{equation}\n",
    "\n",
    "\\begin{equation}\n",
    "  H_m^{-1} = \\frac{1}{m}H_m\n",
    "\\end{equation}"
   ]
  },
  {
   "cell_type": "markdown",
   "metadata": {},
   "source": [
    "### Proposition 1.\n",
    "If we let $\\hat{Z} = H_mZH_n$, then $Z =  H_m \\hat{Z} H_n/(mn)$\n",
    "\n",
    "*Proof*\n",
    "$$\n",
    "\\begin{aligned}\n",
    "\\hat{Z} &= H_mZH_n \\\\\n",
    "\\iff (1/m)H_m \\hat{Z} (1/n)H_n &= H_m^{-1}H_m Z H_nH_n^{-1} \\\\\n",
    "\\iff H_m \\hat{Z} H_n/(mn) &= Z\n",
    "\\end{aligned}\n",
    "$$"
   ]
  },
  {
   "cell_type": "code",
   "execution_count": 11,
   "metadata": {},
   "outputs": [
    {
     "ename": "ERROR",
     "evalue": "Error in parse(text = x, srcfile = src): attempt to use zero-length variable name\n",
     "output_type": "error",
     "traceback": [
      "Error in parse(text = x, srcfile = src): attempt to use zero-length variable name\nTraceback:\n"
     ]
    }
   ],
   "source": [
    "```{r, fig.height=5, fig.width=5}\n",
    "boats <- matrix(scan(\"boats.txt\"), ncol=256, byrow=T)\n",
    "image(boats, axes=F, col=grey(seq(0,1,length=256)), main = \"Original\")\n",
    "```"
   ]
  },
  {
   "cell_type": "markdown",
   "metadata": {},
   "source": [
    "## Fast Walsh-Hadamard Transform"
   ]
  },
  {
   "cell_type": "markdown",
   "metadata": {},
   "source": [
    "Below is an implementation of the FWHT."
   ]
  },
  {
   "cell_type": "code",
   "execution_count": 12,
   "metadata": {},
   "outputs": [],
   "source": [
    "fwht2d <- function(x) {\n",
    "  h <- 1\n",
    "  length <- ncol(x)\n",
    "  while (h < length) {\n",
    "    for (i in seq(1, length, by=h*2)) {\n",
    "      for (j in seq(i,i+h-1)) {\n",
    "        a <- x[,j]\n",
    "        b <- x[,j+h]\n",
    "        x[,j] <- a + b\n",
    "        x[,j+h] <- a - b\n",
    "      }\n",
    "    }\n",
    "    h <- 2*h\n",
    "  }\n",
    "  h <- 1\n",
    "  length <- nrow(x)\n",
    "  while (h < length) {\n",
    "    for (i in seq(1, length, by=h*2)) {\n",
    "      for (j in seq(i,i+h-1)) {\n",
    "        a <- x[j, ]\n",
    "        b <- x[j+h, ]\n",
    "        x[j, ] <- a + b\n",
    "        x[j+h, ] <- a - b\n",
    "      }\n",
    "    }\n",
    "    h <- 2*h\n",
    "  }\n",
    "  x\n",
    "}"
   ]
  },
  {
   "cell_type": "markdown",
   "metadata": {},
   "source": [
    "Below are the functions to perform soft and hard thresholding."
   ]
  },
  {
   "cell_type": "code",
   "execution_count": 13,
   "metadata": {},
   "outputs": [],
   "source": [
    "hard.thresh <- function(x, lambda) {ifelse(abs(x) > lambda, x, 0)}\n",
    "soft.thresh <- function(x, lambda) {\n",
    "  sign(x) * (abs(x) >= lambda) * (abs(x) - lambda)\n",
    "}"
   ]
  },
  {
   "cell_type": "markdown",
   "metadata": {},
   "source": [
    "The function below will divide the original image up into subimages depending on the function parameter \"size\"; referring to $n$ where $n=2^k, \\quad 2\\leq k \\leq 8$ so that the subimages are n by n pixel sub-images."
   ]
  },
  {
   "cell_type": "code",
   "execution_count": 14,
   "metadata": {},
   "outputs": [],
   "source": [
    "sub.im.transform <- function(image, size, Th.type=\"soft\", thresh) {\n",
    "  # image size must be square\n",
    "  N <- ncol(image)\n",
    "  \n",
    "  if ((N %% size) != 0) {\n",
    "    stop(\"image size is not divisible by specified sub-image size\")\n",
    "  }\n",
    "  # create a list of submatrices to apply the transform to\n",
    "  flat <- as.vector(image)\n",
    "  subimages <- list()\n",
    "  A <- N^2/size^2 # index span for each subimage \n",
    "  for (j in 0:(A-1)) {\n",
    "    subimages[[j+1]] <- matrix(flat[(j*(size^2)+1):((j+1)*(size^2))],ncol=size)\n",
    "  }\n",
    "  # apply transform to each sub-image and reconstruct the original matrix/image\n",
    "  subimages.hat <- list()\n",
    "  i <- 1\n",
    "  for (im in subimages) {\n",
    "    Zhat <- fwht2d(im)\n",
    "    if (Th.type == \"soft\") {\n",
    "      Zhat.star <- soft.thresh(Zhat, thresh)\n",
    "    } else {\n",
    "      Zhat.star <- hard.thresh(Zhat, thresh)\n",
    "    }\n",
    "    Zstar <- fwht2d(Zhat.star) / size\n",
    "    subimages.hat[[i]] <- Zstar\n",
    "    i <- i + 1\n",
    "  }\n",
    "  \n",
    "  # reconstruct original image\n",
    "  original <- c()\n",
    "  for (i in 1:A) {\n",
    "    original <- c(original, as.vector(subimages.hat[[i]]))\n",
    "  }\n",
    "  original <- matrix(original, ncol = 256)\n",
    "  original\n",
    "}"
   ]
  },
  {
   "cell_type": "markdown",
   "metadata": {},
   "source": [
    "## Results"
   ]
  },
  {
   "cell_type": "code",
   "execution_count": null,
   "metadata": {},
   "outputs": [],
   "source": [
    "```{r, fig.align=\"center\", echo=F, fig.height=5}\n",
    "par(mfrow=c(4,2))\n",
    "soft <- sub.im.transform(boats, 64, Th.type = \"soft\", thresh = 7)\n",
    "image(boats, axes=F, col=grey(seq(0,1,length=256)), main=\"Original\")\n",
    "image(soft, axes=F, col=grey(seq(0,1,length=256)), main=\"Soft Threshold: lam=7\")\n",
    "\n",
    "hard <- sub.im.transform(boats, 32, Th.type = \"hard\", thresh = 6)\n",
    "image(boats, axes=F, col=grey(seq(0,1,length=256)), main=\"Original\")\n",
    "image(hard, axes=F, col=grey(seq(0,1,length=256)), main=\"Hard Threshold: lam=6\")\n",
    "\n",
    "soft2 <- sub.im.transform(boats, 8, Th.type = \"soft\", thresh = 0.8)\n",
    "image(boats, axes=F, col=grey(seq(0,1,length=256)), main=\"Original\")\n",
    "image(soft2, axes=F, col=grey(seq(0,1,length=256)), main=\"Soft Threshold: lam=0.8\")\n",
    "```"
   ]
  }
 ],
 "metadata": {
  "kernelspec": {
   "display_name": "R",
   "language": "R",
   "name": "ir"
  },
  "language_info": {
   "codemirror_mode": "r",
   "file_extension": ".r",
   "mimetype": "text/x-r-source",
   "name": "R",
   "pygments_lexer": "r",
   "version": "3.5.1"
  }
 },
 "nbformat": 4,
 "nbformat_minor": 2
}
